{
 "cells": [
  {
   "cell_type": "markdown",
   "id": "2a941481",
   "metadata": {},
   "source": [
    "# Application in Problems\n",
    "\n",
    "The Thermodynamic Module which we created can also have an application in dealing with text-book problems. Let's solve a few of them to understand the process."
   ]
  },
  {
   "cell_type": "code",
   "execution_count": null,
   "id": "492d78b8",
   "metadata": {},
   "outputs": [],
   "source": [
    "from thermodynamics_logic import *"
   ]
  },
  {
   "cell_type": "markdown",
   "id": "3c41bb5a",
   "metadata": {},
   "source": [
    "## Unit Conversion"
   ]
  },
  {
   "cell_type": "code",
   "execution_count": null,
   "id": "2542a8c6",
   "metadata": {},
   "outputs": [],
   "source": [
    "# Pressure\n",
    "Pa = N = m = 1\n",
    "MPa = (10**6) * Pa\n",
    "kPa = (10**3) * Pa\n",
    "bar = (10**5) * Pa\n",
    "atm = 101325 * Pa\n",
    "# Volume\n",
    "m3 = 1\n",
    "L = 0.001 * m3\n",
    "mL = cc = 1/1000 * L"
   ]
  },
  {
   "cell_type": "markdown",
   "id": "aed1d0e6",
   "metadata": {},
   "source": [
    "## Problem 1\n",
    "In a process, initial pressure and temperature are and 445 kPa and 38ºC and final pressure and temperature are 24 bar and -128ºC, then the approximate value of polytropic index \"n\".\n",
    "\n",
    "**(Sample Problem)**"
   ]
  },
  {
   "cell_type": "code",
   "execution_count": null,
   "id": "004ad055",
   "metadata": {},
   "outputs": [],
   "source": [
    "A = StateVariable(pressure=445*kPa,temperature=38+273)\n",
    "B = StateVariable(pressure=24*bar,temperature=-128+273)\n",
    "\n",
    "process = TherodynamicProcess.PolyIsotropicProcess(A,B)\n",
    "TherodynamicProcess.plot(process.coordinates())\n",
    "print(f\"The process follows the rule p*V^{process.y:.2f} = {process.k:.2f} (constant)\")\n",
    "print(f\"Hence, 'n' for the given process is {process.y:.2f}\")"
   ]
  },
  {
   "cell_type": "markdown",
   "id": "fb9e9292",
   "metadata": {},
   "source": [
    "## Problem 2\n",
    "\n",
    "A frictionless piston-cylinder device contains a gas initially at 0.8 MPa and 0.015 m<sup>3</sup>. It expands quasi-statically at constant temperature to a final volume of 0.030 m<sup>3</sup>. What will be the work output (in kJ) during this process?\n",
    "\n",
    "**(Source : DTU Semester 01, BME, Minor Test)**"
   ]
  },
  {
   "cell_type": "code",
   "execution_count": null,
   "id": "33af7036",
   "metadata": {},
   "outputs": [],
   "source": [
    "A = StateVariable(pressure=0.8*MPa,volume=0.015*m3)\n",
    "B = StateVariable(volume=0.030*m3)\n",
    "\n",
    "process = TherodynamicProcess.IsothermalReversible(A,B)\n",
    "TherodynamicProcess.plot(process.coordinates())\n",
    "print(f\"Work done for the given process is {-process.stats()['w']/1000:.3f} kJ\")"
   ]
  },
  {
   "cell_type": "markdown",
   "id": "a40d13a6",
   "metadata": {},
   "source": [
    "## Problem 3\n",
    "An Engine cylinder has a piston of area 0.12m<sup>2</sup> and contains gas at a pressure of 1.5MPa the gas expands according to a process, which is represented by a straight line on a pressure volume diagram. The final pressure is 0.15MPa. Calculate the work done by the gas on the piston if the stroke is 0.30m.\n",
    "\n",
    "**(Source : PK Nag)**"
   ]
  },
  {
   "cell_type": "code",
   "execution_count": null,
   "id": "1a96fdca",
   "metadata": {},
   "outputs": [],
   "source": [
    "v = 1 # (unknown)\n",
    "A = StateVariable(pressure=1.5*MPa, volume=v*m3)\n",
    "B = StateVariable(pressure=0.15*MPa, volume=(A.volume+0.12*0.30)*m3)\n",
    "\n",
    "process = TherodynamicProcess.DefineRulePV()\n",
    "process.initialize_linear(A,B)\n",
    "\n",
    "TherodynamicProcess.plot(process.coordinates(A,B))\n",
    "print(f\"Work done in the process = {-process.stats(A,B)['w']/1000:.2f} kJ\")"
   ]
  },
  {
   "cell_type": "markdown",
   "id": "daf5f234",
   "metadata": {},
   "source": [
    "## Problem 4\n",
    "A mass of 1.5kg of air is compressed in a quasi static process from 0.1Mpa to 0.7Mpa for which PV = constant. The initial density of air is 1.16kg/m3. Find the work done by the piston to compress the air.\n",
    "\n",
    "**(Source : PK Nag)**"
   ]
  },
  {
   "cell_type": "code",
   "execution_count": null,
   "id": "4c7e71b4",
   "metadata": {},
   "outputs": [],
   "source": [
    "mass = 1.5\n",
    "density = 1.16\n",
    "A = StateVariable(pressure=0.1*MPa, volume=mass/density*m3)\n",
    "B = StateVariable(pressure=0.7*MPa)\n",
    "\n",
    "process = TherodynamicProcess.IsothermalReversible(A,B)\n",
    "\n",
    "TherodynamicProcess.plot(process.coordinates())\n",
    "print(f\"Work done by the piston = {process.stats()['w']/1000:.2f} kJ\")"
   ]
  },
  {
   "cell_type": "markdown",
   "id": "d3557df2",
   "metadata": {},
   "source": [
    "## Problem 5\n",
    "A mass of gas is compressed in a quasi-static process from 80 kPa, 0.1 m<sup>3</sup> to 0.4 MPa, 0.03 m<sup>3</sup>.\n",
    "\n",
    "Assuming that the pressure and volume are related by\n",
    "**pv<sup>n</sup> = constant**\n",
    "\n",
    "Find the work done by the gas system.\n",
    "\n",
    "**(Source : PK Nag)**"
   ]
  },
  {
   "cell_type": "code",
   "execution_count": null,
   "id": "f3247bca",
   "metadata": {},
   "outputs": [],
   "source": [
    "A = StateVariable(pressure=80*kPa, volume=0.1*m3)\n",
    "B = StateVariable(pressure=0.4*MPa, volume=0.03*m3)\n",
    "\n",
    "process = TherodynamicProcess.PolyIsotropicProcess(A,B)\n",
    "TherodynamicProcess.plot(process.coordinates())\n",
    "print(f\"The process follows the rule p*V^{process.y:.2f} = {process.k:.2f} (constant)\")\n",
    "print(f\"Work done by the gas in the following process = {-process.stats()['w']/1000:.2f} kJ\")"
   ]
  },
  {
   "cell_type": "markdown",
   "id": "bbed7412",
   "metadata": {},
   "source": [
    "## Problem 6\n",
    "If a gas of volume 6000 cm<sup>3</sup> and at pressure of 100 kPa is compressed quasistatically according to **pV<sup>2</sup>= constant** until the volume becomes 2000 cm<sup>3</sup>, determine the final pressure and the work transfer.\n",
    "\n",
    "**(Source : PK Nag)**"
   ]
  },
  {
   "cell_type": "code",
   "execution_count": null,
   "id": "d0399687",
   "metadata": {},
   "outputs": [],
   "source": [
    "A = StateVariable(pressure=100*kPa, volume=6000*cc)\n",
    "B = StateVariable(volume=2000*cc)\n",
    "\n",
    "process = TherodynamicProcess.PolyIsotropicProcess(A,B,2)\n",
    "TherodynamicProcess.plot(process.coordinates())\n",
    "\n",
    "print(f\"The process follows the rule p*V^{process.y} = {process.k:.2f} (constant)\")\n",
    "print(f\"Work done by the gas in the following process = {-process.stats()['w']/1000:.2f} kJ\")"
   ]
  },
  {
   "cell_type": "markdown",
   "id": "6de8c068",
   "metadata": {},
   "source": [
    "## Problem 7\n",
    "A stationary mass of gas is compressed without friction from an initial state of 0.3 m<sup>3</sup> and 0.105 MPa to a final state of 0.15 m<sup>3</sup> and 0.105M Pa. The pressure remaining constant. During the process there is a transfer of 37.6 kJ of heat from the system. How much does the internal energy of the gas change?\n",
    "\n",
    "**(Source : PK Nag)**"
   ]
  },
  {
   "cell_type": "code",
   "execution_count": null,
   "id": "fc31b087",
   "metadata": {},
   "outputs": [],
   "source": [
    "A = StateVariable(pressure=0.105*MPa, volume=0.3*m3)\n",
    "B = StateVariable(pressure=0.105*MPa, volume=0.15*m3)\n",
    "Q = -37.6\n",
    "process = TherodynamicProcess.IsobaricProcess(A,B)\n",
    "TherodynamicProcess.plot(process.coordinates(A,B))\n",
    "\n",
    "print(f\"W = {-process.stats(A,B)['w']/1000:.2f} kJ\")\n",
    "print(f\"Q = {Q:.2f} kJ\")\n",
    "print(f\"U = Q - W = {(Q-(-process.stats(A,B)['w']/1000)):.2f} kJ\")"
   ]
  },
  {
   "cell_type": "markdown",
   "id": "d8070c60",
   "metadata": {},
   "source": [
    "## Problem 8\n",
    "One mole of a monoatomic gas is heated at a constant pressure of 1 atmosphere from 0K to 100K. Calculate the change in internal energy of the gas. (R = 8.3 J mol<sup>-1</sup> K<sup>-1</sup>)\n",
    "\n",
    "**(Source : JEE Mains)**"
   ]
  },
  {
   "cell_type": "code",
   "execution_count": null,
   "id": "d68516cf",
   "metadata": {},
   "outputs": [],
   "source": [
    "A = StateVariable(pressure=1*atm, temperature=0)\n",
    "B = StateVariable(pressure=1*atm, temperature=100)\n",
    "\n",
    "process = TherodynamicProcess.IsobaricProcess(A,B)\n",
    "\n",
    "TherodynamicProcess.plot(process.coordinates(A,B))\n",
    "print(f\"Change in internal energy of the gas = {process.stats(A,B)['u']/1000:.2f} kJ\")"
   ]
  },
  {
   "cell_type": "markdown",
   "id": "39f420da",
   "metadata": {},
   "source": [
    "## Problem 9\n",
    "Calculate the heat given to the system when it is heated from 50°C to 75°C under isochoric conditions.\n",
    "\n",
    "**(Source : JEE Mains)**"
   ]
  },
  {
   "cell_type": "code",
   "execution_count": null,
   "id": "d3aa4a95",
   "metadata": {},
   "outputs": [],
   "source": [
    "v = 1\n",
    "a = StateVariable(temperature=50)\n",
    "b = StateVariable(temperature=75)\n",
    "\n",
    "process = TherodynamicProcess.IsochoricProcess(a,b,comman_volume=v)\n",
    "TherodynamicProcess.plot(process.coordinates(a,b))\n",
    "\n",
    "print(f\"Heat given to the system = {process.stats(a,b)['q']:.2f} Joules\")"
   ]
  },
  {
   "cell_type": "code",
   "execution_count": null,
   "id": "019dce05",
   "metadata": {},
   "outputs": [],
   "source": []
  }
 ],
 "metadata": {
  "kernelspec": {
   "display_name": "Python 3 (ipykernel)",
   "language": "python",
   "name": "python3"
  },
  "language_info": {
   "codemirror_mode": {
    "name": "ipython",
    "version": 3
   },
   "file_extension": ".py",
   "mimetype": "text/x-python",
   "name": "python",
   "nbconvert_exporter": "python",
   "pygments_lexer": "ipython3",
   "version": "3.10.1"
  }
 },
 "nbformat": 4,
 "nbformat_minor": 5
}
